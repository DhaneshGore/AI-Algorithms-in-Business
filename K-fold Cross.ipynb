{
 "cells": [
  {
   "cell_type": "code",
   "execution_count": 12,
   "metadata": {},
   "outputs": [],
   "source": [
    "from sklearn.datasets import make_classification\n",
    "from numpy import mean, std\n",
    "from sklearn.model_selection import KFold, RepeatedKFold, cross_val_score\n",
    "from sklearn.linear_model import LogisticRegression"
   ]
  },
  {
   "cell_type": "code",
   "execution_count": 13,
   "metadata": {},
   "outputs": [
    {
     "name": "stdout",
     "output_type": "stream",
     "text": [
      "(1200, 25) (1200,)\n"
     ]
    }
   ],
   "source": [
    "#Defining Dataset\n",
    "X, y = make_classification(n_samples=1200, n_features=25, n_informative=15, n_redundant=5, random_state=1)\n",
    "print(X.shape, y.shape)"
   ]
  },
  {
   "cell_type": "code",
   "execution_count": 14,
   "metadata": {},
   "outputs": [
    {
     "name": "stdout",
     "output_type": "stream",
     "text": [
      "Accuracy: 0.820 (0.022)\n"
     ]
    }
   ],
   "source": [
    "# evaluating a logistic regression model using k-fold cross-validation\n",
    "from numpy import mean\n",
    "from numpy import std\n",
    "from sklearn.datasets import make_classification\n",
    "from sklearn.model_selection import KFold\n",
    "from sklearn.model_selection import cross_val_score\n",
    "from sklearn.linear_model import LogisticRegression\n",
    "# defining dataset\n",
    "X, y = make_classification(n_samples=1200, n_features=25, n_informative=15, n_redundant=5, random_state=1)\n",
    "# cross-validation\n",
    "cv = KFold(n_splits=10, random_state=1, shuffle=True)\n",
    "# create model\n",
    "model = LogisticRegression()\n",
    "# evaluating model\n",
    "scores = cross_val_score(model, X, y, scoring='accuracy', cv=cv, n_jobs=-1)\n",
    "# performance evaluation\n",
    "print('Accuracy: %.3f (%.3f)' % (mean(scores), std(scores)))\n",
    "     "
   ]
  },
  {
   "cell_type": "code",
   "execution_count": 15,
   "metadata": {},
   "outputs": [],
   "source": [
    "# Repeated K-Fold cross-validation\n",
    "cv = RepeatedKFold(n_splits=10, n_repeats=3, random_state=1)"
   ]
  },
  {
   "cell_type": "code",
   "execution_count": 16,
   "metadata": {},
   "outputs": [],
   "source": [
    "# evaluating a logistic regression model using repeated k-fold cross-validation\n",
    "#Importing Repeated K Fold from sklearn\n",
    "from sklearn.model_selection import RepeatedKFold"
   ]
  },
  {
   "cell_type": "code",
   "execution_count": 17,
   "metadata": {},
   "outputs": [
    {
     "name": "stdout",
     "output_type": "stream",
     "text": [
      "Accuracy: 0.820 (0.033)\n"
     ]
    }
   ],
   "source": [
    "# creating dataset\n",
    "X, y = make_classification(n_samples=1200, n_features=25, n_informative=15, n_redundant=5, random_state=1)\n",
    "# cross-validation procedure\n",
    "cv = RepeatedKFold(n_splits=10, n_repeats=3, random_state=1)\n",
    "# creating a model\n",
    "model = LogisticRegression()\n",
    "# evaluating the model\n",
    "scores = cross_val_score(model, X, y, scoring='accuracy', cv=cv, n_jobs=-1)\n",
    "# report performance\n",
    "print('Accuracy: %.3f (%.3f)' % (mean(scores), std(scores)))"
   ]
  },
  {
   "cell_type": "code",
   "execution_count": 18,
   "metadata": {},
   "outputs": [
    {
     "name": "stdout",
     "output_type": "stream",
     "text": [
      ">1 mean=0.8200 se=0.007\n",
      ">2 mean=0.8217 se=0.007\n",
      ">3 mean=0.8203 se=0.006\n",
      ">4 mean=0.8200 se=0.005\n",
      ">5 mean=0.8212 se=0.005\n",
      ">6 mean=0.8203 se=0.004\n",
      ">7 mean=0.8208 se=0.004\n",
      ">8 mean=0.8214 se=0.004\n",
      ">9 mean=0.8214 se=0.003\n",
      ">10 mean=0.8221 se=0.003\n",
      ">11 mean=0.8218 se=0.003\n",
      ">12 mean=0.8214 se=0.003\n",
      ">13 mean=0.8215 se=0.003\n",
      ">14 mean=0.8214 se=0.003\n",
      ">15 mean=0.8215 se=0.003\n"
     ]
    },
    {
     "name": "stderr",
     "output_type": "stream",
     "text": [
      "C:\\Users\\Dhanesh\\AppData\\Local\\Temp\\ipykernel_10000\\3576708208.py:34: MatplotlibDeprecationWarning: The 'labels' parameter of boxplot() has been renamed 'tick_labels' since Matplotlib 3.9; support for the old name will be dropped in 3.11.\n",
      "  pyplot.boxplot(results, labels=[str(r) for r in repeats], showmeans=True)\n"
     ]
    },
    {
     "data": {
      "image/png": "[encoded data removed]",
      "text/plain": [
       "<Figure size 640x480 with 1 Axes>"
      ]
     },
     "metadata": {},
     "output_type": "display_data"
    }
   ],
   "source": [
    "# comparing the number of repeats for repeated k-fold cross-validation\n",
    "from scipy.stats import sem\n",
    "from numpy import mean\n",
    "from numpy import std\n",
    "from sklearn.datasets import make_classification\n",
    "from sklearn.model_selection import RepeatedKFold\n",
    "from sklearn.model_selection import cross_val_score\n",
    "from sklearn.linear_model import LogisticRegression\n",
    "from matplotlib import pyplot\n",
    "\n",
    "# evaluating a model with a given number of repeats\n",
    "def evaluate_model(X, y, repeats):\n",
    " # preparing the cross-validation procedure\n",
    " cv = RepeatedKFold(n_splits=10, n_repeats=repeats, random_state=1)\n",
    " # creating model\n",
    " model = LogisticRegression()\n",
    " # evaluating model\n",
    " scores = cross_val_score(model, X, y, scoring='accuracy', cv=cv, n_jobs=-1)\n",
    " return scores\n",
    "\n",
    "# creating dataset\n",
    "X, y = make_classification(n_samples=1200, n_features=25, n_informative=15, n_redundant=5, random_state=1)\n",
    "# configurations to test\n",
    "repeats = range(1,16)\n",
    "results = list()\n",
    "for r in repeats:\n",
    " # evaluating using a given number of repeats\n",
    " scores = evaluate_model(X, y, r)\n",
    " # summarize\n",
    " print('>%d mean=%.4f se=%.3f' % (r, mean(scores), sem(scores)))\n",
    " # store\n",
    " results.append(scores)\n",
    "# plot the results\n",
    "pyplot.boxplot(results, labels=[str(r) for r in repeats], showmeans=True)\n",
    "pyplot.show()"
   ]
  },
  {
   "cell_type": "code",
   "execution_count": null,
   "metadata": {},
   "outputs": [],
   "source": []
  }
 ],
 "metadata": {
  "kernelspec": {
   "display_name": "Python 3",
   "language": "python",
   "name": "python3"
  },
  "language_info": {
   "codemirror_mode": {
    "name": "ipython",
    "version": 3
   },
   "file_extension": ".py",
   "mimetype": "text/x-python",
   "name": "python",
   "nbconvert_exporter": "python",
   "pygments_lexer": "ipython3",
   "version": "3.12.1"
  }
 },
 "nbformat": 4,
 "nbformat_minor": 2
}
