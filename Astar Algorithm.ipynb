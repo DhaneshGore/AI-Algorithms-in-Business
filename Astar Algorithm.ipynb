{
 "cells": [
  {
   "cell_type": "markdown",
   "id": "f1a985c4-1920-43ec-a779-58d6cad3eb17",
   "metadata": {},
   "source": [
    "# A-Star Search Algorithm (A*)"
   ]
  },
  {
   "cell_type": "markdown",
   "id": "8c0aa3e7-25c4-412a-9a3f-942726e1ee3a",
   "metadata": {},
   "source": [
    "## What is A*?"
   ]
  },
  {
   "cell_type": "markdown",
   "id": "0a62c2bf-4d12-4bc5-ba00-74038560eaa6",
   "metadata": {},
   "source": [
    "A* is a search algorithm used to find the shortest path between a starting point and an ending point, often on a map. It was originally developed to help robots navigate but is now widely used for graph traversal problems.\n",
    "\n",
    "A* works by considering the cost (or distance) of different paths and always looks for the shortest route. It uses a weighted graph, where each path has a number representing its cost, to choose the most efficient route. A* is both optimal (it finds the best solution) and complete (it explores all possible paths)."
   ]
  },
  {
   "cell_type": "markdown",
   "id": "e50c2f7c-c0ac-4aba-8700-ebfa1c25fca4",
   "metadata": {},
   "source": [
    "## In A* what is f(n)=g(n)+h(n) ?"
   ]
  },
  {
   "cell_type": "markdown",
   "id": "68337788-19dd-46ba-81d1-413bd0190185",
   "metadata": {},
   "source": [
    "### The combination 𝑓(n) = g(n) + h(n) helps A* prioritize nodes that are likely on the shortest path to the goal.\n",
    "The function f(n) represents the total cost of a node, and it is calculated as the sum of two key elements: g(n) and h(n).\n",
    "\n",
    "g(n): This is the actual cost from the starting node to the current node 𝑛. It reflects the real path cost incurred so far based on the edges of the graph, also known as the \"g-score.\" It ensures that the algorithm considers the actual distance or cost traveled to reach a node.\n",
    "\n",
    "h(n): This is the estimated cost (heuristic) from the current node 𝑛 to the goal node. It provides a guess of the remaining distance or cost, guiding the search toward the goal efficiently. It’s often based on problem-specific heuristics, and its accuracy can affect the algorithm’s performance.\n",
    "\n",
    "Difference:\n",
    "\n",
    "g(n) focuses on the past cost (what has already been spent to reach the current node). \n",
    "\n",
    "h(n) focuses on the future cost (an estimate of what’s left to reach the goal)."
   ]
  },
  {
   "cell_type": "markdown",
   "id": "207f4b81-17d0-4e1f-a0f2-8b6e7f33a724",
   "metadata": {},
   "source": [
    "# What's 'Node'"
   ]
  },
  {
   "cell_type": "markdown",
   "id": "daa461b5-a097-4a1e-a06c-b81e8778b4fa",
   "metadata": {},
   "source": [
    "The Node class in the A* search algorithm represents a point in the graph. It stores the node's position and its parent, which helps track the path taken to reach it. The parent allows the algorithm to trace the optimal route back from the goal to the start, while the position identifies where the node is located in the graph. This information is key for finding and reconstructing the shortest path."
   ]
  },
  {
   "cell_type": "code",
   "execution_count": 2,
   "id": "01ebe4bc-b10e-4ccd-b01b-f84572f42081",
   "metadata": {},
   "outputs": [],
   "source": [
    "class Node:    \n",
    "    def __init__(self, parent: 'Node' = None, position: tuple = None):\n",
    "        self.parent = parent\n",
    "        self.position = position\n",
    "\n",
    "        self.g = 0  # actual cost from start to this node\n",
    "        self.h = 0  # heuristic cost from this node to the goal\n",
    "        self.f = 0  # total cost (g + h)\n",
    "    def __eq__(self, other: 'Node') -> bool:\n",
    "        return self.position == other.position\n",
    "\n",
    "    def __lt__(self, other: 'Node') -> bool:\n",
    "        return self.f < other.f\n",
    "\n",
    "    def __repr__(self) -> str:\n",
    "        return f\"Node(position={self.position}, g={self.g}, h={self.h}, f={self.f})\""
   ]
  },
  {
   "cell_type": "markdown",
   "id": "558de0b0-c8f6-4985-84d6-f5263b7e0a46",
   "metadata": {},
   "source": [
    "## the above code defination and statement\n",
    "\n",
    "### def__init__(self, parent, position):\n",
    "\n",
    "This is the initializer (constructor) for the Node class.\n",
    "### parent: Refers to the node that led to this current node (used to track the path).\n",
    "### position: The location of this node in the graph, usually a tuple like (x, y).\n",
    "### g: The actual cost from the starting point to this node.\n",
    "### h: The estimated (heuristic) cost from this node to the goal.\n",
    "### f: The total cost (g + h), which helps the algorithm decide which node to explore next.\n",
    "\n",
    "## def__eq__(self, other):\n",
    "### Compares two nodes based on their positions, returning True if their positions are the same. This helps to check if two nodes are equal.\n",
    "\n",
    "## def__lt__(self, other):\n",
    "### Compares two nodes based on their f values, returning True if this node's f value is less than the other node's. This helps in sorting nodes by their total cost (important for A*).\n",
    "\n",
    "## def__repr__(self):\n",
    "### Returns a readable string representing the node, showing its position and costs (g, h, and f), which is useful for debugging."
   ]
  },
  {
   "cell_type": "markdown",
   "id": "dc409448-b282-4fa2-a5f0-81440e773f35",
   "metadata": {},
   "source": [
    "# Run astar()"
   ]
  },
  {
   "cell_type": "code",
   "execution_count": 9,
   "id": "096f4ad0-2915-4298-8aa5-16a5695aad1e",
   "metadata": {},
   "outputs": [],
   "source": [
    "def astar(maze, start, end):\n",
    "    \"\"\"Returns a list of tuples as the path from the given start to the end in the maze.\"\"\"\n",
    "\n",
    "    # Create start and end node\n",
    "    start_node = Node(None, start)\n",
    "    end_node = Node(None, end)\n",
    "\n",
    "    # Initialize open and closed lists\n",
    "    open_list = []\n",
    "    closed_list = []\n",
    "\n",
    "    # Add the start node to the open list\n",
    "    open_list.append(start_node)\n",
    "\n",
    "    # Loop until you find the end\n",
    "    while open_list:\n",
    "        # Get the current node (with the lowest f value)\n",
    "        current_node = min(open_list, key=lambda node: node.f)\n",
    "        open_list.remove(current_node)\n",
    "        closed_list.append(current_node)\n",
    "\n",
    "        # Check if we've reached the goal\n",
    "        if current_node == end_node:\n",
    "            path = []\n",
    "            while current_node is not None:\n",
    "                path.append(current_node.position)\n",
    "                current_node = current_node.parent\n",
    "            return path[::-1]  # Return the reversed path\n",
    "\n",
    "        # Generate children (adjacent nodes)\n",
    "        children = []\n",
    "        for new_position in [(0, -1), (0, 1), (-1, 0), (1, 0)]:  # Up, down, left, right\n",
    "            # Get node position\n",
    "            node_position = (current_node.position[0] + new_position[0],\n",
    "                             current_node.position[1] + new_position[1])\n",
    "\n",
    "            # Make sure within range and walkable terrain\n",
    "            if (0 <= node_position[0] < len(maze)) and (0 <= node_position[1] < len(maze[0])):\n",
    "                if maze[node_position[0]][node_position[1]] == 0:\n",
    "                    # Create new node\n",
    "                    new_node = Node(current_node, node_position)\n",
    "                    children.append(new_node)\n",
    "\n",
    "        # Loop through children\n",
    "        for child in children:\n",
    "            # Skip the child if it's in the closed list\n",
    "            if child in closed_list:\n",
    "                continue\n",
    "\n",
    "            # Calculate g, h, and f values\n",
    "            child.g = current_node.g + 1  # 1 step from current node\n",
    "            child.h = ((child.position[0] - end_node.position[0]) ** 2) + ((child.position[1] - end_node.position[1]) ** 2)\n",
    "            child.f = child.g + child.h\n",
    "\n",
    "            # Check if the child is in the open list\n",
    "            if add_to_open(open_list, child):\n",
    "                open_list.append(child)\n",
    "\n",
    "    return None  # Return None if no path is found\n",
    "\n",
    "\n",
    "def add_to_open(open_list, child):\n",
    "    \"\"\"Check if the child should be added to the open list.\"\"\"\n",
    "    for node in open_list:\n",
    "        if child == node and child.g >= node.g:\n",
    "            return False  # Child has a higher or equal g cost; do not add\n",
    "    return True  # Child can be added\n"
   ]
  },
  {
   "cell_type": "markdown",
   "id": "2f301d96-f5ad-4273-9522-cafb7171413f",
   "metadata": {},
   "source": [
    "# What's maze"
   ]
  },
  {
   "cell_type": "markdown",
   "id": "ed45c5f6-c64a-4ea4-9045-4bd12234c0ac",
   "metadata": {},
   "source": [
    "## The maze parameter in the A* algorithm should be a 2D array (or list) that represents the layout of the maze. Each element in this array corresponds to a cell in the maze:\n",
    "\n",
    "### 0: Indicates a walkable path or empty space.\n",
    "\n",
    "### Non-zero values: Represent walls, obstacles, or areas that cannot be crossed.\n",
    "\n",
    "The size of the maze is determined by the number of rows and columns in this array, with the outer array representing the rows and each inner array representing the columns within that row."
   ]
  },
  {
   "cell_type": "markdown",
   "id": "7c00d2e5-68b4-4abe-8069-b577548e48db",
   "metadata": {},
   "source": [
    "# Build Main"
   ]
  },
  {
   "cell_type": "code",
   "execution_count": 12,
   "id": "112ce9bc-ef7d-4cb7-a56c-151a26aefb92",
   "metadata": {},
   "outputs": [
    {
     "name": "stdout",
     "output_type": "stream",
     "text": [
      "Path found:\n",
      "(0, 0)\n",
      "(0, 1)\n",
      "(0, 2)\n",
      "(1, 2)\n",
      "(2, 2)\n",
      "(2, 1)\n",
      "(2, 0)\n",
      "(3, 0)\n",
      "(4, 0)\n",
      "(4, 1)\n",
      "(4, 2)\n",
      "(4, 3)\n",
      "(4, 4)\n"
     ]
    }
   ],
   "source": [
    "maze = [\n",
    "    [0, 0, 0, 0, 1],\n",
    "    [1, 1, 0, 1, 0],\n",
    "    [0, 0, 0, 0, 0],\n",
    "    [0, 1, 1, 1, 1],\n",
    "    [0, 0, 0, 0, 0]\n",
    "]\n",
    "\n",
    "start = (0, 0)\n",
    "end = (4, 4)\n",
    "\n",
    "# Call the A* function\n",
    "path = astar(maze, start, end)\n",
    "\n",
    "# Print the result\n",
    "if path:\n",
    "    print(\"Path found:\")\n",
    "    for position in path:\n",
    "        print(position)\n",
    "else:\n",
    "    print(\"No path found.\")"
   ]
  },
  {
   "cell_type": "code",
   "execution_count": null,
   "id": "fa2f955c-bd5e-4f85-99eb-b0ff611ae21e",
   "metadata": {},
   "outputs": [],
   "source": []
  }
 ],
 "metadata": {
  "kernelspec": {
   "display_name": "Python 3 (ipykernel)",
   "language": "python",
   "name": "python3"
  },
  "language_info": {
   "codemirror_mode": {
    "name": "ipython",
    "version": 3
   },
   "file_extension": ".py",
   "mimetype": "text/x-python",
   "name": "python",
   "nbconvert_exporter": "python",
   "pygments_lexer": "ipython3",
   "version": "3.12.1"
  }
 },
 "nbformat": 4,
 "nbformat_minor": 5
}
